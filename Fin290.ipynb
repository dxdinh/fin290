{
  "cells": [
    {
      "metadata": {},
      "cell_type": "markdown",
      "source": "Let s be a string that contains a sequence of decimal numbers separated by commas, e.g. s =\n‘1.23,2.4,3.123’. Write a program that prints the sum of the numbers in the string s. What if the\ninput numbers are separated in the following manner: s = ‘1.23, 2.4, 3.123’? Make sure your code\ngeneralizes to any string of numbers in this format."
    },
    {
      "metadata": {
        "trusted": true
      },
      "cell_type": "code",
      "source": "s = \"1.23, 2.4, 3.123\"\narray_num = s.split(',')\nprint (array_num)\nsum = 0\nfor num in array_num: \n    sum = sum + float(num)\nprint (\"The total sum:\", sum)",
      "execution_count": null,
      "outputs": []
    },
    {
      "metadata": {},
      "cell_type": "markdown",
      "source": "Using a ‘for’ loop write a program that sums the numbers from 1 to N where N is a positive integer\ninput by the user. Output an error message if the number is neither an integer nor positive."
    },
    {
      "metadata": {
        "trusted": true
      },
      "cell_type": "code",
      "source": "try:\n    num = int(input(\"Enter a number: \"))  \n    sum = 1 \n    for i in range(num+1):\n        sum = sum + i \n    print (sum)    \nexcept:\n    print(\" Please enter positive integer number\")        ",
      "execution_count": null,
      "outputs": []
    },
    {
      "metadata": {},
      "cell_type": "markdown",
      "source": "Using a ‘while’ loop write a program that sums the numbers from 1 to N where N is a positive\ninteger input by the user. Output an error message if the number is neither an integer nor positive."
    },
    {
      "metadata": {
        "trusted": true
      },
      "cell_type": "code",
      "source": "try:\n    num = int(input(\"Enter a number: \"))  \n    i = 1\n    sum = 0\n    if ( num <= 0) :\n        print (\"Number must be positive integer\")        \n    while i < num:    \n        sum = sum + i \n        i = i + 1\n    print (\"Total sum: \" ,sum)        \nexcept:\n    print(\" Please enter positive integer number\")    \n    \n    \n\n    ",
      "execution_count": 4,
      "outputs": [
        {
          "output_type": "stream",
          "name": "stdout",
          "text": "Enter a number: 23.23\n Please enter positive integer number\n"
        }
      ]
    },
    {
      "metadata": {
        "trusted": true
      },
      "cell_type": "code",
      "source": "try: \n    num = int(input(\"Enter a number: \"))\n    if (num < 0) :\n        print(\" Please enter positive integer number\")\n    \nexcept:\n    print(\" Please enter positive integer number\")\n",
      "execution_count": 2,
      "outputs": [
        {
          "output_type": "stream",
          "name": "stdout",
          "text": "Enter a number: 234.234\n Please enter positive integer number\n"
        }
      ]
    },
    {
      "metadata": {},
      "cell_type": "markdown",
      "source": "Write a program that examines three variables x, y, and z and prints out the largest odd number\namongst them. If none are odd, print out a message indicating this. For this code, do not use\nany ‘for’ or ‘while’ loops and do not use any built in sort functions. It should be written using\nconditionals/branching-statements. Make sure to add some comments in your code to indicate\nwhat appropriate lines of code are doing."
    },
    {
      "metadata": {
        "trusted": true
      },
      "cell_type": "code",
      "source": "x = 122\ny = 931\nz = 931\nmax = 0\nmax_var = \"\"\nif (x % 2) != 0 :   \n   if (x > max) :\n        max = x\n        #max_var = \"x is the large odd number\"\n\nif (y % 2) != 0 :   \n   if (y > max) :\n        max = y\n        #max_var = \"y is the large odd number\"\n\nif (z % 2) != 0 :   \n   if (z > max) :\n        max = z        \n        #max_var = \"z is the large odd number\"\n        \nif (max == 0) :\n    print(\"There is no odd number\")\nelse:        \n    print( max , \" is the largest odd number\" )\n        \n",
      "execution_count": 13,
      "outputs": [
        {
          "output_type": "stream",
          "text": "931  is the largest odd number\n",
          "name": "stdout"
        }
      ]
    },
    {
      "metadata": {
        "trusted": true
      },
      "cell_type": "code",
      "source": "",
      "execution_count": null,
      "outputs": []
    }
  ],
  "metadata": {
    "kernelspec": {
      "name": "python36",
      "display_name": "Python 3.6",
      "language": "python"
    },
    "language_info": {
      "mimetype": "text/x-python",
      "nbconvert_exporter": "python",
      "name": "python",
      "pygments_lexer": "ipython3",
      "version": "3.6.6",
      "file_extension": ".py",
      "codemirror_mode": {
        "version": 3,
        "name": "ipython"
      }
    }
  },
  "nbformat": 4,
  "nbformat_minor": 2
}